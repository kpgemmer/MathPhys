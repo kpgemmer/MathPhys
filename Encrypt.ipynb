original = "HALLO"

schlüsselwort = "HITZE"
print("Dritter Buchstabe ist: " , original[2])

verschlüsselt = ""

for char in original:
    charAsNumber = ord(char)
    charAsNumber = charAsNumber + 1
    verschlüsselt += chr(charAsNumber)

print(verschlüsselt)
