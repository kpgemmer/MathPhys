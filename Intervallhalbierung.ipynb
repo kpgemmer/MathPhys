{
 "cells": [
  {
   "cell_type": "code",
   "execution_count": 4,
   "id": "69103fbd",
   "metadata": {},
   "outputs": [
    {
     "name": "stdout",
     "output_type": "stream",
     "text": [
      "Der letzte Mittelwert: 0\n"
     ]
    }
   ],
   "source": [
    "radikant = 10\n",
    "obereGrenze = 3\n",
    "untereGrenze = 4\n",
    "\n",
    "for i in range(10):\n",
    "    # Hier müsst ihr euch selber etwas ausdenken\n",
    "    mittelwert = # ???\n",
    "    obereGrenze = # ???\n",
    "    untereGrenze = # ???\n",
    "\n",
    "print(\"Der letzte Mittelwert:\", mittelwert)"
   ]
  },
  {
   "cell_type": "code",
   "execution_count": null,
   "id": "696620c9",
   "metadata": {},
   "outputs": [],
   "source": []
  }
 ],
 "metadata": {
  "kernelspec": {
   "display_name": "Python 3 (ipykernel)",
   "language": "python",
   "name": "python3"
  },
  "language_info": {
   "codemirror_mode": {
    "name": "ipython",
    "version": 3
   },
   "file_extension": ".py",
   "mimetype": "text/x-python",
   "name": "python",
   "nbconvert_exporter": "python",
   "pygments_lexer": "ipython3",
   "version": "3.10.9"
  }
 },
 "nbformat": 4,
 "nbformat_minor": 5
}
