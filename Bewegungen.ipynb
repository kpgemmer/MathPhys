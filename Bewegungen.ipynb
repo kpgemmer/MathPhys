{
 "cells": [
  {
   "cell_type": "code",
   "execution_count": null,
   "id": "8b7fd19b-a7f8-4a6c-a026-846fd0bad81e",
   "metadata": {},
   "outputs": [],
   "source": [
    "from flugbahn_animieren import flugbahn_animieren\n",
    "\n",
    "m = 10     # Masse\n",
    "dt = .001  # Schrittweite für die Zeit\n",
    "\n",
    "# Startposition:\n",
    "x_position = 0\n",
    "y_position = 0\n",
    "\n",
    "# Anfangsgeschwindigkeiten in m/s:\n",
    "v_x = 5\n",
    "v_y = 5\n",
    "\n",
    "# Listen, in denen die Koordinaten des Objektes gespeichert werden:\n",
    "x_liste = [ x_position ]\n",
    "y_liste = [ y_position ]\n",
    "\n",
    "# Simulation\n",
    "for _ in range(1000):\n",
    "    # Neue Geschwindigkeit berechnen\n",
    "    v_x = v_x # + ???\n",
    "    v_y = v_y # + ???\n",
    "\n",
    "    # Neue Korrdinaten berechnen\n",
    "    x_position = x_position # + ???\n",
    "    y_position = y_position # + ???\n",
    "\n",
    "    # Koordinaten abspeichern\n",
    "    x_liste.append(x_position)\n",
    "    y_liste.append(y_position)\n",
    "\n",
    "flugbahn_animieren(x_liste, y_liste)\n"
   ]
  }
 ],
 "metadata": {
  "kernelspec": {
   "display_name": "Python 3 (ipykernel)",
   "language": "python",
   "name": "python3"
  },
  "language_info": {
   "codemirror_mode": {
    "name": "ipython",
    "version": 3
   },
   "file_extension": ".py",
   "mimetype": "text/x-python",
   "name": "python",
   "nbconvert_exporter": "python",
   "pygments_lexer": "ipython3",
   "version": "3.12.6"
  }
 },
 "nbformat": 4,
 "nbformat_minor": 5
}
